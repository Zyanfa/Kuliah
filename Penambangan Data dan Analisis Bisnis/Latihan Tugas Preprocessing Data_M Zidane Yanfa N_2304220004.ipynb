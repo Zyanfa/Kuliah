{
 "cells": [
  {
   "cell_type": "markdown",
   "metadata": {},
   "source": [
    "# Soal 1"
   ]
  },
  {
   "cell_type": "markdown",
   "metadata": {},
   "source": [
    "**a. Download dataset produk_elektronik.csv yang ada pada link berikut**\n",
    "https://bit.ly/dataprodukelektronik  "
   ]
  },
  {
   "cell_type": "code",
   "execution_count": 9,
   "metadata": {},
   "outputs": [],
   "source": [
    "import pandas as pd\n",
    "\n",
    "file_path = 'D:/Kuliah/Semester 4/Penambangan Data dan Analisis Bisnis/Tugas Data Mining/Latihan/produk_elektronik.csv'\n",
    "df = pd.read_csv(file_path)"
   ]
  },
  {
   "cell_type": "markdown",
   "metadata": {},
   "source": [
    "**b. Tampilkan informasi tipe data setiap kolom dan cek apakah ada missing values.**"
   ]
  },
  {
   "cell_type": "code",
   "execution_count": 10,
   "metadata": {},
   "outputs": [
    {
     "name": "stdout",
     "output_type": "stream",
     "text": [
      "<class 'pandas.core.frame.DataFrame'>\n",
      "RangeIndex: 550 entries, 0 to 549\n",
      "Data columns (total 7 columns):\n",
      " #   Column         Non-Null Count  Dtype  \n",
      "---  ------         --------------  -----  \n",
      " 0   produk_id      550 non-null    int64  \n",
      " 1   nama_produk    550 non-null    object \n",
      " 2   kategori       550 non-null    object \n",
      " 3   harga          520 non-null    float64\n",
      " 4   rating         500 non-null    float64\n",
      " 5   jumlah_ulasan  530 non-null    float64\n",
      " 6   negara_asal    550 non-null    object \n",
      "dtypes: float64(3), int64(1), object(3)\n",
      "memory usage: 30.2+ KB\n"
     ]
    }
   ],
   "source": [
    "df.info()"
   ]
  },
  {
   "cell_type": "markdown",
   "metadata": {},
   "source": [
    "Berdasarkan hasil output tersebut didapatkan bahwa dataset tersebut memiliki 7 kolom, dengan banyak baris maksimal yaitu sebanyak 550 baris. Karena terdapat beberapa kolom yang memiliki banyak baris kurang dari 550 baris, maka perlu dilakukan *Preprocessing* data lebih lanjut."
   ]
  },
  {
   "cell_type": "markdown",
   "metadata": {},
   "source": [
    "# Soal 2"
   ]
  },
  {
   "cell_type": "markdown",
   "metadata": {},
   "source": [
    "**a. Cek missing values pada dataset. Berapa jumlah missing values di setiap kolom?**"
   ]
  },
  {
   "cell_type": "code",
   "execution_count": 11,
   "metadata": {},
   "outputs": [
    {
     "data": {
      "text/plain": [
       "produk_id         0\n",
       "nama_produk       0\n",
       "kategori          0\n",
       "harga            30\n",
       "rating           50\n",
       "jumlah_ulasan    20\n",
       "negara_asal       0\n",
       "dtype: int64"
      ]
     },
     "execution_count": 11,
     "metadata": {},
     "output_type": "execute_result"
    }
   ],
   "source": [
    "missing_values = df.isnull().sum()\n",
    "\n",
    "missing_values"
   ]
  },
  {
   "cell_type": "markdown",
   "metadata": {},
   "source": [
    "Kolom yang memiliki *Missing Value*: \n",
    "- Pada kolom \"harga\" terdapat 30 *Missing Value*\n",
    "- Pada kolom \"rating\" terdapat 50 *Missing Value*\n",
    "- Paada kolom \"jumlah_ulasan\" terdapat 20 *Missing Value*"
   ]
  },
  {
   "cell_type": "markdown",
   "metadata": {},
   "source": [
    "**b.  Jelaskan bagaimana keberadaan missing values dapat memengaruhi analisis data.**"
   ]
  },
  {
   "cell_type": "markdown",
   "metadata": {},
   "source": [
    "1.  Mengurangi Akurasi Model: Karena banyak algoritma machine learning tidak bisa menangani data yang tidak lengkap, sehingga hasil prediksi bisa menjadi tidak akurat.\n",
    "2. Bias pada Hasil Analisis : Jika missing values tidak terdistribusi secara acak, hasil analisis bisa menjadi bias karena hanya mewakili sebagian pola dalam data.\n",
    "3. Hilangnya Informasi karena Penghapusan Data:Menghapus data dengan missing values memang bisa menyelesaikan masalah, tetapi bisa menyebabkan hilangnya informasi penting dan membuat hasil analisis menjadi kurang representatif. \n",
    "4. Menyulitkan Pengambilan Keputusan: Jika data yang hilang berkaitan dengan fitur penting, seperti harga atau rating, maka pengambilan keputusan berbasis data bisa menjadi keliru.\n",
    "5. Masalah pada Korelasi dan Pola: missing values bisa menyebabkan pola yang salah dalam data, misalnya memengaruhi rata-rata atau korelasi antar variabel, yang pada akhirnya bisa membuat hasil analisis menjadi menyesatkan."
   ]
  },
  {
   "cell_type": "markdown",
   "metadata": {},
   "source": [
    "**c. Tentukan metode yang paling sesuai untuk menangani missing values di setiap\n",
    "kolom. Berikan alasan pemilihan metode tersebut.**"
   ]
  },
  {
   "cell_type": "markdown",
   "metadata": {},
   "source": [
    "Metode: Imputasi dengan Median\n",
    "\n",
    "Alasan: Karena data tidak perlu berdistribusi normal dan penggunaan median dinilai lebih cocok agar tidak terpengaruh outlier."
   ]
  },
  {
   "cell_type": "markdown",
   "metadata": {},
   "source": [
    "\n",
    "**d.  Tangani missing values dengan metode yang sesuai**"
   ]
  },
  {
   "cell_type": "code",
   "execution_count": 12,
   "metadata": {},
   "outputs": [
    {
     "data": {
      "text/plain": [
       "produk_id        0\n",
       "nama_produk      0\n",
       "kategori         0\n",
       "harga            0\n",
       "rating           0\n",
       "jumlah_ulasan    0\n",
       "negara_asal      0\n",
       "dtype: int64"
      ]
     },
     "execution_count": 12,
     "metadata": {},
     "output_type": "execute_result"
    }
   ],
   "source": [
    "# Imputasi kolom 'harga' dengan median\n",
    "df['harga'] = df['harga'].fillna(df['harga'].median())\n",
    "\n",
    "# Imputasi kolom 'rating' dengan median\n",
    "df['rating'] = df['rating'].fillna(df['rating'].median())\n",
    "\n",
    "# Imputasi kolom 'jumlah_ulasan' dengan median\n",
    "df['jumlah_ulasan'] = df['jumlah_ulasan'].fillna(df['jumlah_ulasan'].median())\n",
    "\n",
    "missing_values_after = df.isnull().sum()\n",
    "missing_values_after"
   ]
  },
  {
   "cell_type": "markdown",
   "metadata": {},
   "source": [
    "Setelah melakukan Imputasi sudah tidak ada *Missing Value* di kolom tersebut. "
   ]
  },
  {
   "cell_type": "markdown",
   "metadata": {},
   "source": [
    "# Soal 3"
   ]
  },
  {
   "cell_type": "markdown",
   "metadata": {},
   "source": [
    "**a. Identifikasi outlier dalam dataset**"
   ]
  },
  {
   "cell_type": "code",
   "execution_count": 13,
   "metadata": {},
   "outputs": [
    {
     "data": {
      "image/png": "[encoded data removed]",
      "text/plain": [
       "<Figure size 1500x500 with 3 Axes>"
      ]
     },
     "metadata": {},
     "output_type": "display_data"
    },
    {
     "data": {
      "text/plain": [
       "{'harga': 29     1150.0\n",
       " 78      -12.0\n",
       " 116    8341.0\n",
       " 138    -195.0\n",
       " 233    7123.0\n",
       " 320    1134.0\n",
       " 322     -14.0\n",
       " 363    5840.0\n",
       " 393    -213.0\n",
       " 413    5598.0\n",
       " 459     -15.0\n",
       " 483    5224.0\n",
       " 525     -42.0\n",
       " 540     -29.0\n",
       " Name: harga, dtype: float64,\n",
       " 'rating': Series([], Name: rating, dtype: float64),\n",
       " 'jumlah_ulasan': Series([], Name: jumlah_ulasan, dtype: float64)}"
      ]
     },
     "execution_count": 13,
     "metadata": {},
     "output_type": "execute_result"
    }
   ],
   "source": [
    "import seaborn as sns\n",
    "import matplotlib.pyplot as plt\n",
    "\n",
    "# Plot boxplot untuk mengidentifikasi outlier pada kolom numerik\n",
    "numeric_cols = ['harga', 'rating', 'jumlah_ulasan']\n",
    "\n",
    "plt.figure(figsize=(15, 5))\n",
    "for i, col in enumerate(numeric_cols, 1):\n",
    "    plt.subplot(1, 3, i)\n",
    "    sns.boxplot(x=df[col])\n",
    "    plt.title(f'Boxplot {col}')\n",
    "plt.tight_layout()\n",
    "plt.show()\n",
    "\n",
    "# Mengidentifikasi outlier menggunakan metode IQR (Interquartile Range)\n",
    "outliers = {}\n",
    "for col in numeric_cols:\n",
    "    Q1 = df[col].quantile(0.25)\n",
    "    Q3 = df[col].quantile(0.75)\n",
    "    IQR = Q3 - Q1\n",
    "    lower_bound = Q1 - 1.5 * IQR\n",
    "    upper_bound = Q3 + 1.5 * IQR\n",
    "    outliers[col] = df[(df[col] < lower_bound) | (df[col] > upper_bound)][col]\n",
    "\n",
    "outliers"
   ]
  },
  {
   "cell_type": "markdown",
   "metadata": {},
   "source": [
    "Pada kolom \"harga\" terdapat 14 outliers. "
   ]
  },
  {
   "cell_type": "markdown",
   "metadata": {},
   "source": [
    "**b.  Apa dampak dari keberadaan outlier terhadap analisis?**"
   ]
  },
  {
   "cell_type": "markdown",
   "metadata": {},
   "source": [
    "1. Mempengaruhi Nilai Rata-Rata dan Statistik Deskriptif\n",
    "2. Menurunkan Performa Model Machine Learning\n",
    "3. Menyesatkan Hubungan Antar Variabel\n",
    "4. Mengganggu Proses Klasterisasi dan Klasifikasi\n",
    "5. Menyulitkan Interpretasi Visual"
   ]
  },
  {
   "cell_type": "markdown",
   "metadata": {},
   "source": [
    "**c. Pilih metode yang sesuai untuk menangani outlier dan jelaskan alasan pemilihannya.**"
   ]
  },
  {
   "cell_type": "markdown",
   "metadata": {},
   "source": [
    "Kolom Harga\n",
    "\n",
    "Metode: Menghapus outlier dan Mengganti dengan nilai yang wajar\n",
    "\n",
    "Alasan:\n",
    "-  Menghapus nilai negatif karena tidak logis.\n",
    "- Mengganti nilai yang sangat tinggi dengan nilai maksimum dalam batas IQR untuk menjaga kestabilan distribusi."
   ]
  },
  {
   "cell_type": "markdown",
   "metadata": {},
   "source": [
    "**d.  Tangani outlier dengan metode yang sesuai, atau jika memilih tidak menangani outlier berikan alasannya.**"
   ]
  },
  {
   "cell_type": "code",
   "execution_count": 14,
   "metadata": {},
   "outputs": [
    {
     "data": {
      "text/plain": [
       "Series([], Name: harga, dtype: float64)"
      ]
     },
     "execution_count": 14,
     "metadata": {},
     "output_type": "execute_result"
    }
   ],
   "source": [
    "# Menangani outlier pada kolom 'harga'\n",
    "\n",
    "# Hitung batas IQR untuk kolom 'harga'\n",
    "Q1 = df['harga'].quantile(0.25)\n",
    "Q3 = df['harga'].quantile(0.75)\n",
    "IQR = Q3 - Q1\n",
    "\n",
    "# Tentukan batas bawah dan batas atas\n",
    "lower_bound = Q1 - 1.5 * IQR\n",
    "upper_bound = Q3 + 1.5 * IQR\n",
    "\n",
    "# Hapus nilai negatif karena harga tidak mungkin negatif\n",
    "df = df[df['harga'] >= 0]\n",
    "\n",
    "# Batasi nilai maksimum pada batas IQR\n",
    "df['harga'] = df['harga'].apply(lambda x: upper_bound if x > upper_bound else x)\n",
    "\n",
    "# Cek ulang apakah masih ada outlier pada kolom 'harga'\n",
    "outliers_harga = df[(df['harga'] < lower_bound) | (df['harga'] > upper_bound)]['harga']\n",
    "\n",
    "outliers_harga"
   ]
  },
  {
   "cell_type": "code",
   "execution_count": 15,
   "metadata": {},
   "outputs": [
    {
     "data": {
      "image/png": "[encoded data removed]",
      "text/plain": [
       "<Figure size 600x400 with 1 Axes>"
      ]
     },
     "metadata": {},
     "output_type": "display_data"
    }
   ],
   "source": [
    "plt.figure(figsize=(6, 4))\n",
    "sns.boxplot(y=df['harga'])\n",
    "plt.title(\"Boxplot Harga (Setelah Menangani Outlier)\")\n",
    "plt.ylabel(\"log(harga)\")\n",
    "plt.show()"
   ]
  },
  {
   "cell_type": "markdown",
   "metadata": {},
   "source": [
    "# Soal 4"
   ]
  },
  {
   "cell_type": "markdown",
   "metadata": {},
   "source": [
    "**a. Tentukan kolom mana yang memerlukan encoding.**"
   ]
  },
  {
   "cell_type": "code",
   "execution_count": 20,
   "metadata": {},
   "outputs": [
    {
     "data": {
      "text/plain": [
       "produk_id          int64\n",
       "nama_produk       object\n",
       "kategori          object\n",
       "harga            float64\n",
       "rating           float64\n",
       "jumlah_ulasan    float64\n",
       "negara_asal       object\n",
       "dtype: object"
      ]
     },
     "execution_count": 20,
     "metadata": {},
     "output_type": "execute_result"
    }
   ],
   "source": [
    "df.dtypes"
   ]
  },
  {
   "cell_type": "markdown",
   "metadata": {},
   "source": [
    "1. Kolom \"Kategori\" dengan tipe \"object\"\n",
    "2. Kolom \"negara_asal\" dengan tipe \"object\""
   ]
  },
  {
   "cell_type": "markdown",
   "metadata": {},
   "source": [
    "**b. Bandingkan berbagai metode encoding dan pilih metode yang paling sesuai untuk setiap kolom. Jelaskan alasan pemilihan metode tersebut.**"
   ]
  },
  {
   "cell_type": "markdown",
   "metadata": {},
   "source": [
    "1. Kolom \"kategori\" perlu menggunakan One-Hot Encoding (OHE), karena untuk menghindari interpretasi ordinal. \n",
    "2. Kolom \"negara_asal\" perlu menggunakan One-Hot Encoding (OHE), karena jumlah kategorinya terbatas. "
   ]
  }
 ],
 "metadata": {
  "kernelspec": {
   "display_name": "Python 3",
   "language": "python",
   "name": "python3"
  },
  "language_info": {
   "codemirror_mode": {
    "name": "ipython",
    "version": 3
   },
   "file_extension": ".py",
   "mimetype": "text/x-python",
   "name": "python",
   "nbconvert_exporter": "python",
   "pygments_lexer": "ipython3",
   "version": "3.13.2"
  }
 },
 "nbformat": 4,
 "nbformat_minor": 2
}
