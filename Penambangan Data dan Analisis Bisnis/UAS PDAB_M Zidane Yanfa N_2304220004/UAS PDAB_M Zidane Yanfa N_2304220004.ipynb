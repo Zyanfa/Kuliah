{
 "cells": [
  {
   "cell_type": "markdown",
   "id": "6ea6d1a8",
   "metadata": {},
   "source": [
    "# UAS PDAB BAGIAN B"
   ]
  },
  {
   "cell_type": "code",
   "execution_count": 96,
   "id": "da6c8b5f",
   "metadata": {},
   "outputs": [
    {
     "data": {
      "text/html": [
       "<div>\n",
       "<style scoped>\n",
       "    .dataframe tbody tr th:only-of-type {\n",
       "        vertical-align: middle;\n",
       "    }\n",
       "\n",
       "    .dataframe tbody tr th {\n",
       "        vertical-align: top;\n",
       "    }\n",
       "\n",
       "    .dataframe thead th {\n",
       "        text-align: right;\n",
       "    }\n",
       "</style>\n",
       "<table border=\"1\" class=\"dataframe\">\n",
       "  <thead>\n",
       "    <tr style=\"text-align: right;\">\n",
       "      <th></th>\n",
       "      <th>PassengerId</th>\n",
       "      <th>Survived</th>\n",
       "      <th>Pclass</th>\n",
       "      <th>Name</th>\n",
       "      <th>Sex</th>\n",
       "      <th>Age</th>\n",
       "      <th>SibSp</th>\n",
       "      <th>Parch</th>\n",
       "      <th>Ticket</th>\n",
       "      <th>Fare</th>\n",
       "      <th>Cabin</th>\n",
       "      <th>Embarked</th>\n",
       "    </tr>\n",
       "  </thead>\n",
       "  <tbody>\n",
       "    <tr>\n",
       "      <th>0</th>\n",
       "      <td>1</td>\n",
       "      <td>0</td>\n",
       "      <td>3</td>\n",
       "      <td>Braund, Mr. Owen Harris</td>\n",
       "      <td>male</td>\n",
       "      <td>22.0</td>\n",
       "      <td>1</td>\n",
       "      <td>0</td>\n",
       "      <td>A/5 21171</td>\n",
       "      <td>7.2500</td>\n",
       "      <td>NaN</td>\n",
       "      <td>S</td>\n",
       "    </tr>\n",
       "    <tr>\n",
       "      <th>1</th>\n",
       "      <td>2</td>\n",
       "      <td>1</td>\n",
       "      <td>1</td>\n",
       "      <td>Cumings, Mrs. John Bradley (Florence Briggs Th...</td>\n",
       "      <td>female</td>\n",
       "      <td>38.0</td>\n",
       "      <td>1</td>\n",
       "      <td>0</td>\n",
       "      <td>PC 17599</td>\n",
       "      <td>71.2833</td>\n",
       "      <td>C85</td>\n",
       "      <td>C</td>\n",
       "    </tr>\n",
       "    <tr>\n",
       "      <th>2</th>\n",
       "      <td>3</td>\n",
       "      <td>1</td>\n",
       "      <td>3</td>\n",
       "      <td>Heikkinen, Miss. Laina</td>\n",
       "      <td>female</td>\n",
       "      <td>26.0</td>\n",
       "      <td>0</td>\n",
       "      <td>0</td>\n",
       "      <td>STON/O2. 3101282</td>\n",
       "      <td>7.9250</td>\n",
       "      <td>NaN</td>\n",
       "      <td>S</td>\n",
       "    </tr>\n",
       "    <tr>\n",
       "      <th>3</th>\n",
       "      <td>4</td>\n",
       "      <td>1</td>\n",
       "      <td>1</td>\n",
       "      <td>Futrelle, Mrs. Jacques Heath (Lily May Peel)</td>\n",
       "      <td>female</td>\n",
       "      <td>35.0</td>\n",
       "      <td>1</td>\n",
       "      <td>0</td>\n",
       "      <td>113803</td>\n",
       "      <td>53.1000</td>\n",
       "      <td>C123</td>\n",
       "      <td>S</td>\n",
       "    </tr>\n",
       "    <tr>\n",
       "      <th>4</th>\n",
       "      <td>5</td>\n",
       "      <td>0</td>\n",
       "      <td>3</td>\n",
       "      <td>Allen, Mr. William Henry</td>\n",
       "      <td>male</td>\n",
       "      <td>35.0</td>\n",
       "      <td>0</td>\n",
       "      <td>0</td>\n",
       "      <td>373450</td>\n",
       "      <td>8.0500</td>\n",
       "      <td>NaN</td>\n",
       "      <td>S</td>\n",
       "    </tr>\n",
       "  </tbody>\n",
       "</table>\n",
       "</div>"
      ],
      "text/plain": [
       "   PassengerId  Survived  Pclass  \\\n",
       "0            1         0       3   \n",
       "1            2         1       1   \n",
       "2            3         1       3   \n",
       "3            4         1       1   \n",
       "4            5         0       3   \n",
       "\n",
       "                                                Name     Sex   Age  SibSp  \\\n",
       "0                            Braund, Mr. Owen Harris    male  22.0      1   \n",
       "1  Cumings, Mrs. John Bradley (Florence Briggs Th...  female  38.0      1   \n",
       "2                             Heikkinen, Miss. Laina  female  26.0      0   \n",
       "3       Futrelle, Mrs. Jacques Heath (Lily May Peel)  female  35.0      1   \n",
       "4                           Allen, Mr. William Henry    male  35.0      0   \n",
       "\n",
       "   Parch            Ticket     Fare Cabin Embarked  \n",
       "0      0         A/5 21171   7.2500   NaN        S  \n",
       "1      0          PC 17599  71.2833   C85        C  \n",
       "2      0  STON/O2. 3101282   7.9250   NaN        S  \n",
       "3      0            113803  53.1000  C123        S  \n",
       "4      0            373450   8.0500   NaN        S  "
      ]
     },
     "execution_count": 96,
     "metadata": {},
     "output_type": "execute_result"
    }
   ],
   "source": [
    "import pandas as pd\n",
    "import matplotlib.pyplot as plt\n",
    "import seaborn as sns\n",
    "import numpy as np\n",
    "from sklearn.model_selection import train_test_split\n",
    "from sklearn.preprocessing import StandardScaler, StandardScaler\n",
    "from sklearn.preprocessing import LabelEncoder\n",
    "from sklearn.linear_model import LogisticRegression\n",
    "from sklearn.tree import DecisionTreeClassifier\n",
    "from sklearn.ensemble import RandomForestClassifier\n",
    "from sklearn.metrics import classification_report, accuracy_score\n",
    "from sklearn.metrics import confusion_matrix\n",
    "\n",
    "df = pd.read_csv('D:/Kuliah/Semester 4/Penambangan Data dan Analisis Bisnis/Tugas Data Mining/UAS PDAB_M Zidane Yanfa N_2304220004/Titanic-Dataset.csv')\n",
    "df.head()"
   ]
  },
  {
   "cell_type": "markdown",
   "id": "ed0a98f3",
   "metadata": {},
   "source": [
    "## 1. Eksplorasi Awal"
   ]
  },
  {
   "cell_type": "markdown",
   "id": "ee128596",
   "metadata": {},
   "source": [
    "**a. Jumlah total penumpang**"
   ]
  },
  {
   "cell_type": "code",
   "execution_count": 97,
   "id": "d83f388a",
   "metadata": {},
   "outputs": [
    {
     "data": {
      "text/plain": [
       "891"
      ]
     },
     "execution_count": 97,
     "metadata": {},
     "output_type": "execute_result"
    }
   ],
   "source": [
    "jumlah_penumpang = len(df)\n",
    "jumlah_penumpang"
   ]
  },
  {
   "cell_type": "markdown",
   "id": "62bf81ba",
   "metadata": {},
   "source": [
    "Jadi jumlah total penumpang adalah 891 orang."
   ]
  },
  {
   "cell_type": "markdown",
   "id": "5d5f252b",
   "metadata": {},
   "source": [
    "**b. Jumlah penumpang yang selamat dan tidak selamat**"
   ]
  },
  {
   "cell_type": "code",
   "execution_count": 98,
   "id": "7d1fa91b",
   "metadata": {},
   "outputs": [
    {
     "name": "stderr",
     "output_type": "stream",
     "text": [
      "C:\\Users\\H P\\AppData\\Local\\Temp\\ipykernel_5996\\1245715285.py:5: FutureWarning: \n",
      "\n",
      "Passing `palette` without assigning `hue` is deprecated and will be removed in v0.14.0. Assign the `x` variable to `hue` and set `legend=False` for the same effect.\n",
      "\n",
      "  sns.barplot(x=survival_counts.index, y=survival_counts.values, palette=\"pastel\", ax=ax)\n"
     ]
    },
    {
     "data": {
      "text/html": [
       "<div>\n",
       "<style scoped>\n",
       "    .dataframe tbody tr th:only-of-type {\n",
       "        vertical-align: middle;\n",
       "    }\n",
       "\n",
       "    .dataframe tbody tr th {\n",
       "        vertical-align: top;\n",
       "    }\n",
       "\n",
       "    .dataframe thead th {\n",
       "        text-align: right;\n",
       "    }\n",
       "</style>\n",
       "<table border=\"1\" class=\"dataframe\">\n",
       "  <thead>\n",
       "    <tr style=\"text-align: right;\">\n",
       "      <th></th>\n",
       "      <th>Jumlah</th>\n",
       "    </tr>\n",
       "    <tr>\n",
       "      <th>Survived</th>\n",
       "      <th></th>\n",
       "    </tr>\n",
       "  </thead>\n",
       "  <tbody>\n",
       "    <tr>\n",
       "      <th>Tidak Selamat</th>\n",
       "      <td>549</td>\n",
       "    </tr>\n",
       "    <tr>\n",
       "      <th>Selamat</th>\n",
       "      <td>342</td>\n",
       "    </tr>\n",
       "  </tbody>\n",
       "</table>\n",
       "</div>"
      ],
      "text/plain": [
       "               Jumlah\n",
       "Survived             \n",
       "Tidak Selamat     549\n",
       "Selamat           342"
      ]
     },
     "execution_count": 98,
     "metadata": {},
     "output_type": "execute_result"
    },
    {
     "data": {
      "image/png": "[encoded data removed]",
      "text/plain": [
       "<Figure size 1800x500 with 1 Axes>"
      ]
     },
     "metadata": {},
     "output_type": "display_data"
    }
   ],
   "source": [
    "survival_counts = df['Survived'].value_counts().rename(index={0: \"Tidak Selamat\", 1: \"Selamat\"})\n",
    "\n",
    "fig, ax = plt.subplots(figsize=(18, 5))\n",
    "\n",
    "sns.barplot(x=survival_counts.index, y=survival_counts.values, palette=\"pastel\", ax=ax)\n",
    "ax.set_title(\"Jumlah Penumpang Selamat dan Tidak Selamat\")\n",
    "ax.set_ylabel(\"Jumlah\")\n",
    "survival_counts.to_frame(name='Jumlah')"
   ]
  },
  {
   "cell_type": "markdown",
   "id": "bdfe3a18",
   "metadata": {},
   "source": [
    "**c. Rata-rata umur, penumpang termuda, dan tertua**"
   ]
  },
  {
   "cell_type": "code",
   "execution_count": 99,
   "id": "33dd4ccb",
   "metadata": {},
   "outputs": [],
   "source": [
    "rata_rata_umur = df['Age'].mean()\n",
    "penumpang_termuda = df.loc[df['Age'].idxmin()]\n",
    "penumpang_tertua = df.loc[df['Age'].idxmax()]"
   ]
  },
  {
   "cell_type": "code",
   "execution_count": 100,
   "id": "6840107f",
   "metadata": {},
   "outputs": [
    {
     "name": "stdout",
     "output_type": "stream",
     "text": [
      "29.69911764705882\n"
     ]
    }
   ],
   "source": [
    "print(rata_rata_umur)"
   ]
  },
  {
   "cell_type": "markdown",
   "id": "fa1495f7",
   "metadata": {},
   "source": [
    "Rata-rata umurnya adalah 29,7 tahun."
   ]
  },
  {
   "cell_type": "code",
   "execution_count": 101,
   "id": "5d270c32",
   "metadata": {},
   "outputs": [
    {
     "name": "stdout",
     "output_type": "stream",
     "text": [
      "PassengerId                                804\n",
      "Survived                                     1\n",
      "Pclass                                       3\n",
      "Name           Thomas, Master. Assad Alexander\n",
      "Sex                                       male\n",
      "Age                                       0.42\n",
      "SibSp                                        0\n",
      "Parch                                        1\n",
      "Ticket                                    2625\n",
      "Fare                                    8.5167\n",
      "Cabin                                      NaN\n",
      "Embarked                                     C\n",
      "Name: 803, dtype: object\n"
     ]
    }
   ],
   "source": [
    "print(penumpang_termuda)"
   ]
  },
  {
   "cell_type": "markdown",
   "id": "55cb07b6",
   "metadata": {},
   "source": [
    "Penumpang termuda adalah (Thomas, Master. Assad Alexander)"
   ]
  },
  {
   "cell_type": "code",
   "execution_count": 102,
   "id": "fa6fa7e2",
   "metadata": {},
   "outputs": [
    {
     "name": "stdout",
     "output_type": "stream",
     "text": [
      "PassengerId                                     631\n",
      "Survived                                          1\n",
      "Pclass                                            1\n",
      "Name           Barkworth, Mr. Algernon Henry Wilson\n",
      "Sex                                            male\n",
      "Age                                            80.0\n",
      "SibSp                                             0\n",
      "Parch                                             0\n",
      "Ticket                                        27042\n",
      "Fare                                           30.0\n",
      "Cabin                                           A23\n",
      "Embarked                                          S\n",
      "Name: 630, dtype: object\n"
     ]
    }
   ],
   "source": [
    "print(penumpang_tertua)"
   ]
  },
  {
   "cell_type": "markdown",
   "id": "ba581b69",
   "metadata": {},
   "source": [
    "Penumpang tertua adalah (Barkworth, Mr. Algernon Henry Wilson)"
   ]
  },
  {
   "cell_type": "markdown",
   "id": "d841146a",
   "metadata": {},
   "source": [
    "**d. Jumlah penumpang berdasarkan jenis kelamin**"
   ]
  },
  {
   "cell_type": "code",
   "execution_count": 103,
   "id": "0f373612",
   "metadata": {},
   "outputs": [
    {
     "name": "stderr",
     "output_type": "stream",
     "text": [
      "C:\\Users\\H P\\AppData\\Local\\Temp\\ipykernel_5996\\189925059.py:5: FutureWarning: \n",
      "\n",
      "Passing `palette` without assigning `hue` is deprecated and will be removed in v0.14.0. Assign the `x` variable to `hue` and set `legend=False` for the same effect.\n",
      "\n",
      "  sns.barplot(x=gender_counts.index, y=gender_counts.values, palette=\"Set2\", ax=ax)\n"
     ]
    },
    {
     "data": {
      "text/html": [
       "<div>\n",
       "<style scoped>\n",
       "    .dataframe tbody tr th:only-of-type {\n",
       "        vertical-align: middle;\n",
       "    }\n",
       "\n",
       "    .dataframe tbody tr th {\n",
       "        vertical-align: top;\n",
       "    }\n",
       "\n",
       "    .dataframe thead th {\n",
       "        text-align: right;\n",
       "    }\n",
       "</style>\n",
       "<table border=\"1\" class=\"dataframe\">\n",
       "  <thead>\n",
       "    <tr style=\"text-align: right;\">\n",
       "      <th></th>\n",
       "      <th>Jumlah</th>\n",
       "    </tr>\n",
       "    <tr>\n",
       "      <th>Sex</th>\n",
       "      <th></th>\n",
       "    </tr>\n",
       "  </thead>\n",
       "  <tbody>\n",
       "    <tr>\n",
       "      <th>male</th>\n",
       "      <td>577</td>\n",
       "    </tr>\n",
       "    <tr>\n",
       "      <th>female</th>\n",
       "      <td>314</td>\n",
       "    </tr>\n",
       "  </tbody>\n",
       "</table>\n",
       "</div>"
      ],
      "text/plain": [
       "        Jumlah\n",
       "Sex           \n",
       "male       577\n",
       "female     314"
      ]
     },
     "execution_count": 103,
     "metadata": {},
     "output_type": "execute_result"
    },
    {
     "data": {
      "image/png": "[encoded data removed]",
      "text/plain": [
       "<Figure size 1800x500 with 1 Axes>"
      ]
     },
     "metadata": {},
     "output_type": "display_data"
    }
   ],
   "source": [
    "fig, ax = plt.subplots(figsize=(18, 5))\n",
    "\n",
    "gender_counts = df['Sex'].value_counts()\n",
    "\n",
    "sns.barplot(x=gender_counts.index, y=gender_counts.values, palette=\"Set2\", ax=ax)\n",
    "ax.set_title(\"Jumlah Penumpang Berdasarkan Jenis Kelamin\")\n",
    "ax.set_ylabel(\"Jumlah\")\n",
    "gender_counts.to_frame(name='Jumlah')"
   ]
  },
  {
   "cell_type": "markdown",
   "id": "b4581254",
   "metadata": {},
   "source": [
    "Berdasarkan hasil tabel dan visualisai, penumpang laki-laki lebih banyak daripada penumpang perempuan. "
   ]
  },
  {
   "cell_type": "markdown",
   "id": "e9ea61ca",
   "metadata": {},
   "source": [
    "**e. Jumlah penumpang berdasarkan kelas dan persentase kelas 1**"
   ]
  },
  {
   "cell_type": "code",
   "execution_count": 104,
   "id": "80531875",
   "metadata": {},
   "outputs": [
    {
     "data": {
      "text/html": [
       "<div>\n",
       "<style scoped>\n",
       "    .dataframe tbody tr th:only-of-type {\n",
       "        vertical-align: middle;\n",
       "    }\n",
       "\n",
       "    .dataframe tbody tr th {\n",
       "        vertical-align: top;\n",
       "    }\n",
       "\n",
       "    .dataframe thead th {\n",
       "        text-align: right;\n",
       "    }\n",
       "</style>\n",
       "<table border=\"1\" class=\"dataframe\">\n",
       "  <thead>\n",
       "    <tr style=\"text-align: right;\">\n",
       "      <th></th>\n",
       "      <th>Jumlah</th>\n",
       "    </tr>\n",
       "    <tr>\n",
       "      <th>Pclass</th>\n",
       "      <th></th>\n",
       "    </tr>\n",
       "  </thead>\n",
       "  <tbody>\n",
       "    <tr>\n",
       "      <th>1</th>\n",
       "      <td>216</td>\n",
       "    </tr>\n",
       "    <tr>\n",
       "      <th>2</th>\n",
       "      <td>184</td>\n",
       "    </tr>\n",
       "    <tr>\n",
       "      <th>3</th>\n",
       "      <td>491</td>\n",
       "    </tr>\n",
       "  </tbody>\n",
       "</table>\n",
       "</div>"
      ],
      "text/plain": [
       "        Jumlah\n",
       "Pclass        \n",
       "1          216\n",
       "2          184\n",
       "3          491"
      ]
     },
     "execution_count": 104,
     "metadata": {},
     "output_type": "execute_result"
    }
   ],
   "source": [
    "pclass_counts = df['Pclass'].value_counts().sort_index()\n",
    "persentase_kelas_1 = (pclass_counts[1] / jumlah_penumpang) * 100\n",
    "\n",
    "pclass_counts.to_frame(name='Jumlah')"
   ]
  },
  {
   "cell_type": "code",
   "execution_count": 105,
   "id": "e75d566d",
   "metadata": {},
   "outputs": [
    {
     "name": "stdout",
     "output_type": "stream",
     "text": [
      "24.24\n"
     ]
    }
   ],
   "source": [
    "persentase_kelas_1 = round(persentase_kelas_1, 2)\n",
    "print(persentase_kelas_1)"
   ]
  },
  {
   "cell_type": "markdown",
   "id": "122d96ec",
   "metadata": {},
   "source": [
    "Persentase penumpang Kelas 1 adalah 24,24%"
   ]
  },
  {
   "cell_type": "code",
   "execution_count": 106,
   "id": "fdfe1ef7",
   "metadata": {},
   "outputs": [
    {
     "name": "stderr",
     "output_type": "stream",
     "text": [
      "C:\\Users\\H P\\AppData\\Local\\Temp\\ipykernel_5996\\940201133.py:3: FutureWarning: \n",
      "\n",
      "Passing `palette` without assigning `hue` is deprecated and will be removed in v0.14.0. Assign the `x` variable to `hue` and set `legend=False` for the same effect.\n",
      "\n",
      "  sns.barplot(x=pclass_counts.index.astype(str), y=pclass_counts.values, palette=\"Set3\", ax=ax, legend=False)\n"
     ]
    },
    {
     "data": {
      "text/plain": [
       "Text(0.5, 0, 'Kelas')"
      ]
     },
     "execution_count": 106,
     "metadata": {},
     "output_type": "execute_result"
    },
    {
     "data": {
      "image/png": "[encoded data removed]",
      "text/plain": [
       "<Figure size 1800x500 with 1 Axes>"
      ]
     },
     "metadata": {},
     "output_type": "display_data"
    }
   ],
   "source": [
    "fig, ax = plt.subplots(figsize=(18, 5))\n",
    "\n",
    "sns.barplot(x=pclass_counts.index.astype(str), y=pclass_counts.values, palette=\"Set3\", ax=ax, legend=False)\n",
    "ax.set_title(\"Jumlah Penumpang Berdasarkan Kelas\")\n",
    "ax.set_xlabel(\"Kelas\")"
   ]
  },
  {
   "cell_type": "markdown",
   "id": "adfebeb4",
   "metadata": {},
   "source": [
    "## 2. Preprocessing"
   ]
  },
  {
   "cell_type": "markdown",
   "id": "d93dbe3f",
   "metadata": {},
   "source": [
    "**a. Apakah terdapat missing value?**"
   ]
  },
  {
   "cell_type": "code",
   "execution_count": 107,
   "id": "bbb7f5c3",
   "metadata": {},
   "outputs": [
    {
     "name": "stdout",
     "output_type": "stream",
     "text": [
      "PassengerId      0\n",
      "Survived         0\n",
      "Pclass           0\n",
      "Name             0\n",
      "Sex              0\n",
      "Age            177\n",
      "SibSp            0\n",
      "Parch            0\n",
      "Ticket           0\n",
      "Fare             0\n",
      "Cabin          687\n",
      "Embarked         2\n",
      "dtype: int64\n"
     ]
    }
   ],
   "source": [
    "missing_values = df.isnull().sum()\n",
    "print(missing_values)"
   ]
  },
  {
   "cell_type": "markdown",
   "id": "e1ded589",
   "metadata": {},
   "source": [
    "- Pada kolom umur (Age) terdapat 177 *missing value*\n",
    "\n",
    "- Pada kolom kabin (Cabin) terdapat 687 *missing value*\n",
    "\n",
    "- Pada kolom keberangkatan (Embarked) terdapat 177 *missing value*"
   ]
  },
  {
   "cell_type": "markdown",
   "id": "3c9a32d1",
   "metadata": {},
   "source": [
    "**b. Jika ya, apa yang anda lakukan?**"
   ]
  },
  {
   "cell_type": "markdown",
   "id": "5c105eb1",
   "metadata": {},
   "source": [
    "Mengisi data yang kosong dengan: \n",
    "\n",
    "- Kolom umur (Age): isi dengan median.\n",
    "\n",
    "- Kolom kabin (Cabin): banyak missing, bisa di-drop.\n",
    "\n",
    "- Kolom keberangkatan (Embarked): hanya 2 missing, bisa diisi dengan modus."
   ]
  },
  {
   "cell_type": "code",
   "execution_count": 108,
   "id": "e9811144",
   "metadata": {},
   "outputs": [
    {
     "name": "stderr",
     "output_type": "stream",
     "text": [
      "C:\\Users\\H P\\AppData\\Local\\Temp\\ipykernel_5996\\2866385538.py:1: FutureWarning: A value is trying to be set on a copy of a DataFrame or Series through chained assignment using an inplace method.\n",
      "The behavior will change in pandas 3.0. This inplace method will never work because the intermediate object on which we are setting values always behaves as a copy.\n",
      "\n",
      "For example, when doing 'df[col].method(value, inplace=True)', try using 'df.method({col: value}, inplace=True)' or df[col] = df[col].method(value) instead, to perform the operation inplace on the original object.\n",
      "\n",
      "\n",
      "  df['Age'].fillna(df['Age'].median(), inplace=True)\n",
      "C:\\Users\\H P\\AppData\\Local\\Temp\\ipykernel_5996\\2866385538.py:4: FutureWarning: A value is trying to be set on a copy of a DataFrame or Series through chained assignment using an inplace method.\n",
      "The behavior will change in pandas 3.0. This inplace method will never work because the intermediate object on which we are setting values always behaves as a copy.\n",
      "\n",
      "For example, when doing 'df[col].method(value, inplace=True)', try using 'df.method({col: value}, inplace=True)' or df[col] = df[col].method(value) instead, to perform the operation inplace on the original object.\n",
      "\n",
      "\n",
      "  df['Embarked'].fillna(df['Embarked'].mode()[0], inplace=True)\n"
     ]
    },
    {
     "data": {
      "text/plain": [
       "PassengerId    0\n",
       "Survived       0\n",
       "Pclass         0\n",
       "Name           0\n",
       "Sex            0\n",
       "Age            0\n",
       "SibSp          0\n",
       "Parch          0\n",
       "Ticket         0\n",
       "Fare           0\n",
       "Embarked       0\n",
       "dtype: int64"
      ]
     },
     "execution_count": 108,
     "metadata": {},
     "output_type": "execute_result"
    }
   ],
   "source": [
    "df['Age'].fillna(df['Age'].median(), inplace=True)\n",
    "if 'Cabin' in df.columns:\n",
    "\tdf.drop(columns=['Cabin'], inplace=True)\n",
    "df['Embarked'].fillna(df['Embarked'].mode()[0], inplace=True)\n",
    "df.isnull().sum()"
   ]
  },
  {
   "cell_type": "markdown",
   "id": "493914cc",
   "metadata": {},
   "source": [
    "**c. Apakah terdapat outlier pada data tersebut? Jelaskan apa itu outlier!**"
   ]
  },
  {
   "cell_type": "markdown",
   "id": "bc6dd965",
   "metadata": {},
   "source": [
    "Outlier adalah nilai yang jauh berbeda dari mayoritas data, bisa mengganggu analisis statistik dan model prediktif."
   ]
  },
  {
   "cell_type": "code",
   "execution_count": 109,
   "id": "97a95220",
   "metadata": {},
   "outputs": [
    {
     "data": {
      "image/png": "[encoded data removed]",
      "text/plain": [
       "<Figure size 640x480 with 1 Axes>"
      ]
     },
     "metadata": {},
     "output_type": "display_data"
    },
    {
     "data": {
      "text/html": [
       "<div>\n",
       "<style scoped>\n",
       "    .dataframe tbody tr th:only-of-type {\n",
       "        vertical-align: middle;\n",
       "    }\n",
       "\n",
       "    .dataframe tbody tr th {\n",
       "        vertical-align: top;\n",
       "    }\n",
       "\n",
       "    .dataframe thead th {\n",
       "        text-align: right;\n",
       "    }\n",
       "</style>\n",
       "<table border=\"1\" class=\"dataframe\">\n",
       "  <thead>\n",
       "    <tr style=\"text-align: right;\">\n",
       "      <th></th>\n",
       "      <th>Age</th>\n",
       "    </tr>\n",
       "  </thead>\n",
       "  <tbody>\n",
       "    <tr>\n",
       "      <th>7</th>\n",
       "      <td>2.00</td>\n",
       "    </tr>\n",
       "    <tr>\n",
       "      <th>11</th>\n",
       "      <td>58.00</td>\n",
       "    </tr>\n",
       "    <tr>\n",
       "      <th>15</th>\n",
       "      <td>55.00</td>\n",
       "    </tr>\n",
       "    <tr>\n",
       "      <th>16</th>\n",
       "      <td>2.00</td>\n",
       "    </tr>\n",
       "    <tr>\n",
       "      <th>33</th>\n",
       "      <td>66.00</td>\n",
       "    </tr>\n",
       "    <tr>\n",
       "      <th>...</th>\n",
       "      <td>...</td>\n",
       "    </tr>\n",
       "    <tr>\n",
       "      <th>827</th>\n",
       "      <td>1.00</td>\n",
       "    </tr>\n",
       "    <tr>\n",
       "      <th>829</th>\n",
       "      <td>62.00</td>\n",
       "    </tr>\n",
       "    <tr>\n",
       "      <th>831</th>\n",
       "      <td>0.83</td>\n",
       "    </tr>\n",
       "    <tr>\n",
       "      <th>851</th>\n",
       "      <td>74.00</td>\n",
       "    </tr>\n",
       "    <tr>\n",
       "      <th>879</th>\n",
       "      <td>56.00</td>\n",
       "    </tr>\n",
       "  </tbody>\n",
       "</table>\n",
       "<p>66 rows × 1 columns</p>\n",
       "</div>"
      ],
      "text/plain": [
       "       Age\n",
       "7     2.00\n",
       "11   58.00\n",
       "15   55.00\n",
       "16    2.00\n",
       "33   66.00\n",
       "..     ...\n",
       "827   1.00\n",
       "829  62.00\n",
       "831   0.83\n",
       "851  74.00\n",
       "879  56.00\n",
       "\n",
       "[66 rows x 1 columns]"
      ]
     },
     "execution_count": 109,
     "metadata": {},
     "output_type": "execute_result"
    }
   ],
   "source": [
    "sns.boxplot(x=df['Age'])\n",
    "plt.title(\"Boxplot Age\")\n",
    "plt.show()\n",
    "\n",
    "Q1_age = df['Age'].quantile(0.25)\n",
    "Q3_age = df['Age'].quantile(0.75)\n",
    "IQR_age = Q3_age - Q1_age\n",
    "age_outliers = df[(df['Age'] < (Q1_age - 1.5 * IQR_age)) | (df['Age'] > (Q3_age + 1.5 * IQR_age))]\n",
    "age_outliers[['Age']]"
   ]
  },
  {
   "cell_type": "code",
   "execution_count": 110,
   "id": "b8bad115",
   "metadata": {},
   "outputs": [
    {
     "data": {
      "image/png": "[encoded data removed]",
      "text/plain": [
       "<Figure size 640x480 with 1 Axes>"
      ]
     },
     "metadata": {},
     "output_type": "display_data"
    },
    {
     "data": {
      "text/html": [
       "<div>\n",
       "<style scoped>\n",
       "    .dataframe tbody tr th:only-of-type {\n",
       "        vertical-align: middle;\n",
       "    }\n",
       "\n",
       "    .dataframe tbody tr th {\n",
       "        vertical-align: top;\n",
       "    }\n",
       "\n",
       "    .dataframe thead th {\n",
       "        text-align: right;\n",
       "    }\n",
       "</style>\n",
       "<table border=\"1\" class=\"dataframe\">\n",
       "  <thead>\n",
       "    <tr style=\"text-align: right;\">\n",
       "      <th></th>\n",
       "      <th>Fare</th>\n",
       "    </tr>\n",
       "  </thead>\n",
       "  <tbody>\n",
       "    <tr>\n",
       "      <th>1</th>\n",
       "      <td>71.2833</td>\n",
       "    </tr>\n",
       "    <tr>\n",
       "      <th>27</th>\n",
       "      <td>263.0000</td>\n",
       "    </tr>\n",
       "    <tr>\n",
       "      <th>31</th>\n",
       "      <td>146.5208</td>\n",
       "    </tr>\n",
       "    <tr>\n",
       "      <th>34</th>\n",
       "      <td>82.1708</td>\n",
       "    </tr>\n",
       "    <tr>\n",
       "      <th>52</th>\n",
       "      <td>76.7292</td>\n",
       "    </tr>\n",
       "    <tr>\n",
       "      <th>...</th>\n",
       "      <td>...</td>\n",
       "    </tr>\n",
       "    <tr>\n",
       "      <th>846</th>\n",
       "      <td>69.5500</td>\n",
       "    </tr>\n",
       "    <tr>\n",
       "      <th>849</th>\n",
       "      <td>89.1042</td>\n",
       "    </tr>\n",
       "    <tr>\n",
       "      <th>856</th>\n",
       "      <td>164.8667</td>\n",
       "    </tr>\n",
       "    <tr>\n",
       "      <th>863</th>\n",
       "      <td>69.5500</td>\n",
       "    </tr>\n",
       "    <tr>\n",
       "      <th>879</th>\n",
       "      <td>83.1583</td>\n",
       "    </tr>\n",
       "  </tbody>\n",
       "</table>\n",
       "<p>116 rows × 1 columns</p>\n",
       "</div>"
      ],
      "text/plain": [
       "         Fare\n",
       "1     71.2833\n",
       "27   263.0000\n",
       "31   146.5208\n",
       "34    82.1708\n",
       "52    76.7292\n",
       "..        ...\n",
       "846   69.5500\n",
       "849   89.1042\n",
       "856  164.8667\n",
       "863   69.5500\n",
       "879   83.1583\n",
       "\n",
       "[116 rows x 1 columns]"
      ]
     },
     "execution_count": 110,
     "metadata": {},
     "output_type": "execute_result"
    }
   ],
   "source": [
    "sns.boxplot(x=df['Fare'])\n",
    "plt.title(\"Boxplot Fare\")\n",
    "plt.show()\n",
    "\n",
    "Q1 = df['Fare'].quantile(0.25)\n",
    "Q3 = df['Fare'].quantile(0.75)\n",
    "IQR = Q3 - Q1\n",
    "fare_outliers = df[(df['Fare'] < (Q1 - 1.5 * IQR)) | (df['Fare'] > (Q3 + 1.5 * IQR))]\n",
    "fare_outliers[['Fare']]"
   ]
  },
  {
   "cell_type": "markdown",
   "id": "a2439747",
   "metadata": {},
   "source": [
    "Berdasarkan uji outlier menggunakan Boxplot dan IQR, dapat disimpulkan bahwa data tersebut memiliki outlier. "
   ]
  },
  {
   "cell_type": "markdown",
   "id": "fdf6c385",
   "metadata": {},
   "source": [
    "**d. Apakah outlier pada data tersebut perlu diatasi serta bagaimana cara mengatasinya?**"
   ]
  },
  {
   "cell_type": "markdown",
   "id": "1120072d",
   "metadata": {},
   "source": [
    "Menurut saya outlier pada data tersebut perlu diatasi. \n",
    "Salah satu cara untuk mengatasi outlier adalah dengan menggunakan clipping"
   ]
  },
  {
   "cell_type": "code",
   "execution_count": 111,
   "id": "22772bb3",
   "metadata": {},
   "outputs": [
    {
     "data": {
      "image/png": "[encoded data removed]",
      "text/plain": [
       "<Figure size 640x480 with 1 Axes>"
      ]
     },
     "metadata": {},
     "output_type": "display_data"
    }
   ],
   "source": [
    "# Tangani outlier 'Fare' dengan clipping\n",
    "upper_limit = Q3 + 1.5 * IQR\n",
    "df['Fare'] = df['Fare'].apply(lambda x: upper_limit if x > upper_limit else x)\n",
    "sns.boxplot(x=df['Fare'])\n",
    "plt.title(\"Boxplot Fare\")\n",
    "plt.show()"
   ]
  },
  {
   "cell_type": "markdown",
   "id": "eb8726b4",
   "metadata": {},
   "source": [
    "Kolom 'Fare' sudah tidak memiliki outlier."
   ]
  },
  {
   "cell_type": "markdown",
   "id": "226612cc",
   "metadata": {},
   "source": [
    "**e. Jika dibutuhkan, lakukan transformasi/standarisasi/scaling terhadap data**"
   ]
  },
  {
   "cell_type": "code",
   "execution_count": 112,
   "id": "722e2153",
   "metadata": {},
   "outputs": [
    {
     "data": {
      "text/html": [
       "<div>\n",
       "<style scoped>\n",
       "    .dataframe tbody tr th:only-of-type {\n",
       "        vertical-align: middle;\n",
       "    }\n",
       "\n",
       "    .dataframe tbody tr th {\n",
       "        vertical-align: top;\n",
       "    }\n",
       "\n",
       "    .dataframe thead th {\n",
       "        text-align: right;\n",
       "    }\n",
       "</style>\n",
       "<table border=\"1\" class=\"dataframe\">\n",
       "  <thead>\n",
       "    <tr style=\"text-align: right;\">\n",
       "      <th></th>\n",
       "      <th>Age</th>\n",
       "      <th>Fare</th>\n",
       "    </tr>\n",
       "  </thead>\n",
       "  <tbody>\n",
       "    <tr>\n",
       "      <th>0</th>\n",
       "      <td>-0.565736</td>\n",
       "      <td>-0.820552</td>\n",
       "    </tr>\n",
       "    <tr>\n",
       "      <th>1</th>\n",
       "      <td>0.663861</td>\n",
       "      <td>2.031623</td>\n",
       "    </tr>\n",
       "    <tr>\n",
       "      <th>2</th>\n",
       "      <td>-0.258337</td>\n",
       "      <td>-0.787578</td>\n",
       "    </tr>\n",
       "    <tr>\n",
       "      <th>3</th>\n",
       "      <td>0.433312</td>\n",
       "      <td>1.419297</td>\n",
       "    </tr>\n",
       "    <tr>\n",
       "      <th>4</th>\n",
       "      <td>0.433312</td>\n",
       "      <td>-0.781471</td>\n",
       "    </tr>\n",
       "  </tbody>\n",
       "</table>\n",
       "</div>"
      ],
      "text/plain": [
       "        Age      Fare\n",
       "0 -0.565736 -0.820552\n",
       "1  0.663861  2.031623\n",
       "2 -0.258337 -0.787578\n",
       "3  0.433312  1.419297\n",
       "4  0.433312 -0.781471"
      ]
     },
     "execution_count": 112,
     "metadata": {},
     "output_type": "execute_result"
    }
   ],
   "source": [
    "scaler = StandardScaler()\n",
    "df[['Age', 'Fare']] = scaler.fit_transform(df[['Age', 'Fare']])\n",
    "df[['Age', 'Fare']].head()"
   ]
  },
  {
   "cell_type": "markdown",
   "id": "d4e2c935",
   "metadata": {},
   "source": [
    "## 3. Modeling"
   ]
  },
  {
   "cell_type": "markdown",
   "id": "65128ce5",
   "metadata": {},
   "source": [
    "**a. Penjelasan Proses Pembagian Data**"
   ]
  },
  {
   "cell_type": "markdown",
   "id": "5285a6f3",
   "metadata": {},
   "source": [
    "Data dibagi menjadi data training dan data testing agar:\n",
    "\n",
    "- Training set digunakan untuk melatih model.\n",
    "\n",
    "- Testing set digunakan untuk menguji performa model terhadap data yang belum pernah dilihat sebelumnya. \n",
    "\n",
    "Tujuannya adalah mengevaluasi seberapa baik model bisa melakukan generalisasi."
   ]
  },
  {
   "cell_type": "markdown",
   "id": "33c7fa0c",
   "metadata": {},
   "source": [
    "**b. Proporsi Pembagian**"
   ]
  },
  {
   "cell_type": "markdown",
   "id": "0b6dc3b9",
   "metadata": {},
   "source": [
    "Proporsi pembagiannya adalah 80% training dan 20% testing, karena proporsi ini umum digunakan karena memberikan cukup data untuk model belajar sambil tetap menyisakan cukup data untuk evaluasi."
   ]
  },
  {
   "cell_type": "markdown",
   "id": "795ec2ab",
   "metadata": {},
   "source": [
    "**c. Model Klasifikasi dari 3 Algoritma Berbeda**"
   ]
  },
  {
   "cell_type": "markdown",
   "id": "da9f4939",
   "metadata": {},
   "source": [
    "Model klasifikasi yang digunakan:\n",
    "\n",
    "- Logistic Regression: model statistik yang digunakan untuk memprediksi probabilitas suatu kejadian biner (ya/tidak, benar/salah) dengan memetakan input ke output antara 0 dan 1 menggunakan fungsi logistik (sigmoid).\n",
    "\n",
    "- Decision Tree: model supervised learning yang membagi data secara rekursif berdasarkan fitur-fitur untuk mencapai keputusan akhir (seperti pohon keputusan dengan node dan daun).\n",
    "\n",
    "- Random Forest: ensemble method yang menggabungkan banyak Decision Tree (biasanya ratusan) untuk meningkatkan akurasi dan mengurangi overfitting."
   ]
  },
  {
   "cell_type": "markdown",
   "id": "33cfdea8",
   "metadata": {},
   "source": [
    "Melatih Model: "
   ]
  },
  {
   "cell_type": "code",
   "execution_count": 113,
   "id": "087d5013",
   "metadata": {},
   "outputs": [
    {
     "data": {
      "text/plain": [
       "((712, 7), (179, 7), (712,), (179,))"
      ]
     },
     "execution_count": 113,
     "metadata": {},
     "output_type": "execute_result"
    }
   ],
   "source": [
    "df_encoded = df.copy()\n",
    "label_encoders = {}\n",
    "for col in ['Sex', 'Embarked']:\n",
    "    le = LabelEncoder()\n",
    "    df_encoded[col] = le.fit_transform(df_encoded[col])\n",
    "    label_encoders[col] = le\n",
    "\n",
    "scaler = StandardScaler()\n",
    "df_encoded[['Age', 'Fare']] = scaler.fit_transform(df_encoded[['Age', 'Fare']])\n",
    "\n",
    "X = df_encoded.drop(columns=['Survived', 'Name', 'Ticket', 'PassengerId'])\n",
    "y = df_encoded['Survived']\n",
    "\n",
    "X_train, X_test, y_train, y_test = train_test_split(X, y, test_size=0.2, random_state=42)\n",
    "\n",
    "X_train.shape, X_test.shape, y_train.shape, y_test.shape"
   ]
  },
  {
   "cell_type": "markdown",
   "id": "144c52f2",
   "metadata": {},
   "source": [
    "Cara kerja Logistic Regression, Decision Tree, dan Random Forest"
   ]
  },
  {
   "cell_type": "code",
   "execution_count": 114,
   "id": "ed5a5b61",
   "metadata": {},
   "outputs": [],
   "source": [
    "logreg = LogisticRegression(random_state=42)\n",
    "tree = DecisionTreeClassifier(random_state=42)\n",
    "forest = RandomForestClassifier(random_state=42)\n",
    "\n",
    "logreg.fit(X_train, y_train)\n",
    "tree.fit(X_train, y_train)\n",
    "forest.fit(X_train, y_train)\n",
    "\n",
    "y_pred_logreg = logreg.predict(X_test)\n",
    "y_pred_tree = tree.predict(X_test)\n",
    "y_pred_forest = forest.predict(X_test)"
   ]
  },
  {
   "cell_type": "markdown",
   "id": "7b815150",
   "metadata": {},
   "source": [
    "**d. Nilai Evaluasi dari Masing-Masing Model**"
   ]
  },
  {
   "cell_type": "code",
   "execution_count": 115,
   "id": "8b9d1121",
   "metadata": {},
   "outputs": [
    {
     "data": {
      "text/plain": [
       "{'Logistic Regression Accuracy': 0.8044692737430168,\n",
       " 'Decision Tree Accuracy': 0.770949720670391,\n",
       " 'Random Forest Accuracy': 0.8156424581005587}"
      ]
     },
     "execution_count": 115,
     "metadata": {},
     "output_type": "execute_result"
    }
   ],
   "source": [
    "eval_logreg = classification_report(y_test, y_pred_logreg, output_dict=True)\n",
    "eval_tree = classification_report(y_test, y_pred_tree, output_dict=True)\n",
    "eval_forest = classification_report(y_test, y_pred_forest, output_dict=True)\n",
    "\n",
    "{\n",
    "    \"Logistic Regression Accuracy\": accuracy_score(y_test, y_pred_logreg),\n",
    "    \"Decision Tree Accuracy\": accuracy_score(y_test, y_pred_tree),\n",
    "    \"Random Forest Accuracy\": accuracy_score(y_test, y_pred_forest)\n",
    "}"
   ]
  },
  {
   "cell_type": "markdown",
   "id": "410f2f2f",
   "metadata": {},
   "source": [
    "Nilai evaluasi masing-masing model: \n",
    "\n",
    "- Logistic Regression: 80,45%\n",
    "\n",
    "- Decision Tree Accuracy: 77,10%\n",
    "\n",
    "- Random Forest Accuracy: 81,56%\n",
    "\n",
    "Arti dari setiap metrik evaluasi: \n",
    "\n",
    "- Akurasi: proporsi prediksi yang benar dari total prediksi.\n",
    "\n",
    "- Metrik lain yang biasanya dilihat (dalam classification_report) meliputi:\n",
    "\n",
    "    - Precision: Ketepatan prediksi positif.\n",
    "\n",
    "    - Recall: Kemampuan model menangkap data positif.\n",
    "\n",
    "    - F1-Score: Harmonis antara precision dan recall."
   ]
  },
  {
   "cell_type": "markdown",
   "id": "6a0dbfa4",
   "metadata": {},
   "source": [
    "**e. Perbandingan dan Ulasan**"
   ]
  },
  {
   "cell_type": "markdown",
   "id": "2a998420",
   "metadata": {},
   "source": [
    "- Random Forest menghasilkan akurasi tertinggi (81,56%), sedikit lebih baik dari Logistic Regression.\n",
    "\n",
    "- Decision Tree sedikit tertinggal (77,10%), kemungkinan karena overfitting ke data training. "
   ]
  },
  {
   "cell_type": "markdown",
   "id": "69e1b0cb",
   "metadata": {},
   "source": [
    "Random Forest lebih baik dibandingkan Logistic Regression dan overfitting karena lebih stabil dan mampu menangkap pola kompleks serta cocok dengan dataset tabular seperti Titanic. "
   ]
  },
  {
   "cell_type": "markdown",
   "id": "cdbc6183",
   "metadata": {},
   "source": [
    "## 4. Evaluasi"
   ]
  },
  {
   "cell_type": "markdown",
   "id": "3a347e7e",
   "metadata": {},
   "source": [
    "**a. Precision dan Recall Penumpang \"Selamat\"**"
   ]
  },
  {
   "cell_type": "code",
   "execution_count": 116,
   "id": "d560cd13",
   "metadata": {},
   "outputs": [
    {
     "name": "stdout",
     "output_type": "stream",
     "text": [
      "              precision    recall  f1-score   support\n",
      "\n",
      "           0       0.84      0.85      0.84       105\n",
      "           1       0.78      0.77      0.78        74\n",
      "\n",
      "    accuracy                           0.82       179\n",
      "   macro avg       0.81      0.81      0.81       179\n",
      "weighted avg       0.82      0.82      0.82       179\n",
      "\n"
     ]
    }
   ],
   "source": [
    "print(classification_report(y_test, y_pred_forest))"
   ]
  },
  {
   "cell_type": "markdown",
   "id": "ea16b83d",
   "metadata": {},
   "source": [
    "Berdasarkan output tersebut, maka: \n",
    "\n",
    "- Precision untuk penumpang yang selamat adalah 0,78\n",
    "\n",
    "- Recall untuk penumpang yang selamat adalah 0,77"
   ]
  },
  {
   "cell_type": "markdown",
   "id": "dc4558cf",
   "metadata": {},
   "source": [
    "**b. Jumlah Penumpang yang Diprediksi Selamat dan Benar-Benar Selamat**"
   ]
  },
  {
   "cell_type": "code",
   "execution_count": 117,
   "id": "b896a516",
   "metadata": {},
   "outputs": [],
   "source": [
    "cm = confusion_matrix(y_test, y_pred_forest)\n",
    "# Format confusion_matrix: [[TN, FP], [FN, TP]]\n",
    "predicted_selamat = cm[0][1] + cm[1][1]\n",
    "true_selamat = cm[1][1]"
   ]
  },
  {
   "cell_type": "code",
   "execution_count": 119,
   "id": "c5d633c3",
   "metadata": {},
   "outputs": [
    {
     "name": "stdout",
     "output_type": "stream",
     "text": [
      "Diprediksi selamat: 73\n",
      "Benar-benar selamat: 57\n"
     ]
    }
   ],
   "source": [
    "print(\"Diprediksi selamat:\", predicted_selamat)\n",
    "print(\"Benar-benar selamat:\", true_selamat)"
   ]
  }
 ],
 "metadata": {
  "kernelspec": {
   "display_name": "Python 3",
   "language": "python",
   "name": "python3"
  },
  "language_info": {
   "codemirror_mode": {
    "name": "ipython",
    "version": 3
   },
   "file_extension": ".py",
   "mimetype": "text/x-python",
   "name": "python",
   "nbconvert_exporter": "python",
   "pygments_lexer": "ipython3",
   "version": "3.13.2"
  }
 },
 "nbformat": 4,
 "nbformat_minor": 5
}
